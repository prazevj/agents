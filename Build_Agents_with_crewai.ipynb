{
  "cells": [
    {
      "cell_type": "markdown",
      "metadata": {
        "id": "5d9ZDGpcIPyG"
      },
      "source": [
        "# Agentic workflows with CrewAI\n",
        "## Crew.ai is an opensource framework based on python designed to orchestrate the role-playing and autonomous agents. There are six key elements in the AI agents:\n",
        "\n",
        "### 1. Role playing\n",
        "### 2. Focus\n",
        "### 3. Tools\n",
        "### 4. Collaboration\n",
        "### 5. Guardrails\n",
        "### 6. Memory"
      ]
    },
    {
      "cell_type": "markdown",
      "metadata": {
        "id": "L0zoGm4-IGBH"
      },
      "source": [
        "# AI Agents\n",
        "\n",
        "AI Agent is born when we make the LLM's to think and react reasanobly. They are assigned with distinct roles and goals to align each other for specialized task execution."
      ]
    },
    {
      "cell_type": "markdown",
      "metadata": {
        "id": "vb5cxe_WJL4X"
      },
      "source": [
        "# Building Blocks of CrewAI\n",
        "---\n",
        "## ▶ AGENTS\n",
        "\n",
        "## ▶ TASKS\n",
        "\n",
        "## ▶ CREWS\n"
      ]
    },
    {
      "cell_type": "markdown",
      "metadata": {
        "id": "2ucncLjzK2IX"
      },
      "source": [
        "### Defining Agents\n",
        "\n",
        "\n",
        "**Agents:**\n",
        "\n",
        "Agents are the fundamental component to perform specific tasks within an agentic-system."
      ]
    },
    {
      "cell_type": "markdown",
      "metadata": {
        "id": "hQZLCvmLNCZh"
      },
      "source": [
        "### Getting started with CrewAI\n",
        "\n",
        "- Installation recommended for the verion of python > v3.10"
      ]
    },
    {
      "cell_type": "code",
      "execution_count": null,
      "metadata": {
        "id": "khiUGV6WIu4d"
      },
      "outputs": [],
      "source": [
        "! pip install crewai\n",
        "\n",
        "! pip install crewai[tools] #Installing all the available tools as part of crewai"
      ]
    },
    {
      "cell_type": "markdown",
      "metadata": {
        "id": "Xg4m7oFZLzXy"
      },
      "source": []
    },
    {
      "cell_type": "code",
      "execution_count": 2,
      "metadata": {
        "id": "vkC1XBt2Hgdq"
      },
      "outputs": [],
      "source": [
        "from crewai import Agent\n",
        "from crewai_tools import SerperDevTool\n",
        "\n",
        "data_scientist_agent = Agent(\n",
        "    role = \"Senior Data Scientist\",\n",
        "    goal = \"Analyse the complex datasets to provide actionable insights using advanced machine learning techniques\",\n",
        "    backstory = \"With over 10 years of experience in data science and machine learning, \"\n",
        "                \"you excel at finding patterns in complex datasets\",\n",
        "    tools = [SerperDevTool()],\n",
        "    verbose = True,\n",
        "    allow_delegation = False\n",
        ")"
      ]
    },
    {
      "cell_type": "markdown",
      "metadata": {
        "id": "F-3ct5CiNJzS"
      },
      "source": [
        "**Tasks:**\n",
        "\n",
        "Task defines a unit of work which the agents execute and each task has its own set of attributes and the agents details to which the task is associated.\n"
      ]
    },
    {
      "cell_type": "code",
      "execution_count": 11,
      "metadata": {
        "id": "XWxn-DPQIFjq"
      },
      "outputs": [],
      "source": [
        "from crewai import Task\n",
        "\n",
        "research_task = Task(\n",
        "    description=\"Conduct comprehensive research on the latest AI developments.\",\n",
        "    expected_output=\"A summary report highlighting key advancements in AI.\",\n",
        "    agent=data_scientist_agent,\n",
        "    tools=[SerperDevTool()],\n",
        "    async_execution=True\n",
        ")"
      ]
    },
    {
      "cell_type": "markdown",
      "metadata": {
        "id": "Qwm8MwkhWCjd"
      },
      "source": [
        "\n",
        "**Crews:**\n",
        "\n",
        "Crew orchestrates the collaboration between the agents and tasks which enables the execution of the workflows and it also serves as the central component that manages the sequences and interaction of tasks performed by the agents."
      ]
    },
    {
      "cell_type": "code",
      "execution_count": null,
      "metadata": {
        "id": "J8lIO5jFWCSg"
      },
      "outputs": [],
      "source": [
        "from crewai import Crew, Process\n",
        "\n",
        "my_crew = Crew(\n",
        "    agents=[data_scientist_agent],\n",
        "    tasks=[research_task],\n",
        "    process=Process.sequential, # We can define either Sequential, Hierarchial or Synchronous process options\n",
        "    verbose=True\n",
        ")"
      ]
    },
    {
      "cell_type": "markdown",
      "metadata": {
        "id": "4KBHp30sWWyg"
      },
      "source": [
        "### Process Flow Options:\n",
        "\n",
        "- Sequential: Tasks are executed one after another in a linear order.\n",
        "- Hierarchical: A manager agent coordinates the crew, delegating tasks and validating outcomes before proceeding. This requires specifying a manager_agent or manager_llm.\n"
      ]
    },
    {
      "cell_type": "markdown",
      "metadata": {
        "id": "QFbj4T55On_3"
      },
      "source": [
        "# Building a summarizer agent without using any tools\n",
        "\n",
        "We have defined a summarizer agent and a translator agent working together to summarize and translate documentation. This is a simple example to get you started, but the agents are also able to use tools, which is a powerful combination for building agentic workflows.\n",
        "\n",
        "\n",
        "####  Configure Groq api key\n",
        "\n",
        "I have tried using groq as the LLM provider and if you want try it out, install the groq packages\n",
        "\n",
        "`! pip install groq`\n",
        "\n",
        "Refer the documentation if you want to know how to get your key from groq cloud\n",
        "[Get your groq key here](https://console.groq.com/docs/quickstart)\n",
        "\n",
        "`export GROQ_API_KEY = \"your-api-key\"`\n",
        "\n"
      ]
    },
    {
      "cell_type": "code",
      "execution_count": 13,
      "metadata": {
        "colab": {
          "base_uri": "https://localhost:8080/"
        },
        "id": "Or94FvFHOQRG",
        "outputId": "9b5899e2-d8d4-45d5-9934-e4019493eebd"
      },
      "outputs": [
        {
          "name": "stderr",
          "output_type": "stream",
          "text": [
            "WARNING:opentelemetry.trace:Overriding of current TracerProvider is not allowed\n"
          ]
        },
        {
          "name": "stdout",
          "output_type": "stream",
          "text": [
            "\u001b[1m\u001b[95m# Agent:\u001b[00m \u001b[1m\u001b[92mDocumentation Summarizer\u001b[00m\n",
            "\u001b[95m## Task:\u001b[00m \u001b[92mSummarize this React hook documentation:\n",
            "\n",
            "useFetch(url) is a custom hook for making HTTP requests. It returns { data, loading, error } and automatically handles loading states.\u001b[00m\n",
            "\n",
            "\n",
            "\u001b[1m\u001b[95m# Agent:\u001b[00m \u001b[1m\u001b[92mDocumentation Summarizer\u001b[00m\n",
            "\u001b[95m## Final Answer:\u001b[00m \u001b[92m\n",
            "The `useFetch(url)` custom hook is designed to simplify the process of making HTTP requests within React applications. By utilizing this hook, developers can easily fetch data from a specified URL and manage the associated states, including loading and error handling. The hook returns an object containing three key properties: `data`, `loading`, and `error`. \n",
            "\n",
            "- `data`: This property holds the fetched data from the requested URL. It is the payload returned from the successful execution of the HTTP request.\n",
            "- `loading`: This is a boolean indicator that reflects the current state of the request. When the request is being processed, `loading` is `true`, and it becomes `false` once the request has completed, regardless of whether it was successful or not.\n",
            "- `error`: If an error occurs during the request, this property will contain the error details. Otherwise, it remains `null` or `undefined`, indicating that no error was encountered.\n",
            "\n",
            "The automatic handling of loading states by the `useFetch` hook streamlines the development process by reducing the need for manual state management when dealing with asynchronous requests. This makes it easier to implement fetch logic and handle the various states that can occur during the request lifecycle, thereby improving the overall user experience by providing timely feedback (e.g., displaying a loading indicator) and gracefully handling errors. \n",
            "\n",
            "Overall, the `useFetch` hook is a valuable tool for React developers, offering a straightforward and efficient way to manage HTTP requests and their associated states within functional components.\u001b[00m\n",
            "\n",
            "\n",
            "\u001b[1m\u001b[95m# Agent:\u001b[00m \u001b[1m\u001b[92mTechnical Translator\u001b[00m\n",
            "\u001b[95m## Task:\u001b[00m \u001b[92mTranslate the summary to Hindi\u001b[00m\n",
            "\n",
            "\n",
            "\u001b[1m\u001b[95m# Agent:\u001b[00m \u001b[1m\u001b[92mTechnical Translator\u001b[00m\n",
            "\u001b[95m## Final Answer:\u001b[00m \u001b[92m\n",
            "`useFetch(url)` कस्टम हुक रिएक्ट एप्लिकेशन के भीतर HTTP अनुरोधों की प्रक्रिया को सरल बनाने के लिए डिज़ाइन किया गया है। इस हुक का उपयोग करके, डेवलपर आसानी से एक निर्दिष्ट URL से डेटा प्राप्त कर सकते हैं और संबंधित राज्यों का प्रबंधन कर सकते हैं, जिसमें लोडिंग और त्रुटि संचालन शामिल है। हुक एक ऑब्जेक्ट लौटाता है जिसमें तीन प्रमुख गुण होते हैं: `data`, `loading`, और `error`। \n",
            "\n",
            "- `data`: यह गुण अनुरोधित URL से प्राप्त डेटा को धारण करता है। यह HTTP अनुरोध के सफल निष्पादन से लौटाया गया पेलोड है।\n",
            "- `loading`: यह एक बूलियन इंडिकेटर है जो अनुरोध की वर्तमान स्थिति को दर्शाता है। जब अनुरोध संसाधित किया जा रहा हो, `loading` `true` होता है, और यह अनुरोध पूरा होने के बाद `false` हो जाता है, चाहे वह सफल हो या नहीं।\n",
            "- `error`: यदि अनुरोध के दौरान कोई त्रुटि होती है, तो यह गुण त्रुटि विवरण धारण करेगा। अन्यथा, यह `null` या `undefined` रहता है, जो यह दर्शाता है कि कोई त्रुटि नहीं हुई है।\n",
            "\n",
            "`useFetch` हुक द्वारा लोडिंग राज्यों का स्वचालित प्रबंधन विकास प्रक्रिया को सरल बनाता है bằng giảm असिंक्रोनस अनुरोधों के साथ निपटने के लिए 手動 राज्य प्रबंधन की आवश्यकता को कम करके। इससे फ़ेच तर्क को लागू करना और अनुरोध जीवनचक्र के दौरान होने वाले विभिन्न राज्यों को संभालना आसान हो जाता है, जिससे उपयोगकर्ता को समय पर प्रतिक्रिया (जैसे, लोडिंग संकेतक प्रदर्शित करना) प्रदान करने और त्रुटियों को सौम्य रूप से संभालने के लिए समग्र उपयोगकर्ता अनुभव में सुधार होता है। \n",
            "\n",
            "सामग्री, `useFetch` हुक रिएक्ट डेवलपर्स के लिए एक मूल्यवान उपकरण है, जो कार्यात्मक घटकों के भीतर HTTP अनुरोधों और उनके संबंधित राज्यों को प्रबंधित करने के लिए एक सरल और कुशल तरीका प्रदान करता है।\u001b[00m\n",
            "\n",
            "\n",
            "`useFetch(url)` कस्टम हुक रिएक्ट एप्लिकेशन के भीतर HTTP अनुरोधों की प्रक्रिया को सरल बनाने के लिए डिज़ाइन किया गया है। इस हुक का उपयोग करके, डेवलपर आसानी से एक निर्दिष्ट URL से डेटा प्राप्त कर सकते हैं और संबंधित राज्यों का प्रबंधन कर सकते हैं, जिसमें लोडिंग और त्रुटि संचालन शामिल है। हुक एक ऑब्जेक्ट लौटाता है जिसमें तीन प्रमुख गुण होते हैं: `data`, `loading`, और `error`। \n",
            "\n",
            "- `data`: यह गुण अनुरोधित URL से प्राप्त डेटा को धारण करता है। यह HTTP अनुरोध के सफल निष्पादन से लौटाया गया पेलोड है।\n",
            "- `loading`: यह एक बूलियन इंडिकेटर है जो अनुरोध की वर्तमान स्थिति को दर्शाता है। जब अनुरोध संसाधित किया जा रहा हो, `loading` `true` होता है, और यह अनुरोध पूरा होने के बाद `false` हो जाता है, चाहे वह सफल हो या नहीं।\n",
            "- `error`: यदि अनुरोध के दौरान कोई त्रुटि होती है, तो यह गुण त्रुटि विवरण धारण करेगा। अन्यथा, यह `null` या `undefined` रहता है, जो यह दर्शाता है कि कोई त्रुटि नहीं हुई है।\n",
            "\n",
            "`useFetch` हुक द्वारा लोडिंग राज्यों का स्वचालित प्रबंधन विकास प्रक्रिया को सरल बनाता है bằng giảm असिंक्रोनस अनुरोधों के साथ निपटने के लिए 手動 राज्य प्रबंधन की आवश्यकता को कम करके। इससे फ़ेच तर्क को लागू करना और अनुरोध जीवनचक्र के दौरान होने वाले विभिन्न राज्यों को संभालना आसान हो जाता है, जिससे उपयोगकर्ता को समय पर प्रतिक्रिया (जैसे, लोडिंग संकेतक प्रदर्शित करना) प्रदान करने और त्रुटियों को सौम्य रूप से संभालने के लिए समग्र उपयोगकर्ता अनुभव में सुधार होता है। \n",
            "\n",
            "सामग्री, `useFetch` हुक रिएक्ट डेवलपर्स के लिए एक मूल्यवान उपकरण है, जो कार्यात्मक घटकों के भीतर HTTP अनुरोधों और उनके संबंधित राज्यों को प्रबंधित करने के लिए एक सरल और कुशल तरीका प्रदान करता है।\n"
          ]
        }
      ],
      "source": [
        "from crewai import Agent, Task, Crew, LLM\n",
        "import os\n",
        "\n",
        "os.environ['GROQ_API_KEY'] = \"your-groq-api-key\"\n",
        "\n",
        "llm = LLM(model=\"groq/llama-3.1-70b-versatile\")\n",
        "\n",
        "\n",
        "# Create your CrewAI agents with role, main goal/objective, and backstory/personality\n",
        "summarizer = Agent(\n",
        "    role='Documentation Summarizer', # Agent's job title/function\n",
        "    goal='Create concise summaries of technical documentation', # Agent's main objective\n",
        "    backstory='Technical writer who excels at simplifying complex concepts', # Agent's background/expertise\n",
        "    llm=llm, # LLM that powers your agent\n",
        "    verbose=True # Show agent's thought process as it completes its task\n",
        ")\n",
        "\n",
        "translator = Agent(\n",
        "    role='Technical Translator',\n",
        "    goal='Translate technical documentation to other languages',\n",
        "    backstory='Technical translator specializing in software documentation',\n",
        "    llm=llm,\n",
        "    verbose=True\n",
        ")\n",
        "\n",
        "# Define your agents' tasks\n",
        "summary_task = Task(\n",
        "    description='Summarize this React hook documentation:\\n\\nuseFetch(url) is a custom hook for making HTTP requests. It returns { data, loading, error } and automatically handles loading states.',\n",
        "    expected_output=\"A clear, concise summary of the hook's functionality\",\n",
        "    agent=summarizer # Agent assigned to task\n",
        ")\n",
        "\n",
        "translation_task = Task(\n",
        "    description='Translate the summary to Hindi',\n",
        "    expected_output=\"Turkish translation of the hook documentation\",\n",
        "    agent=translator,\n",
        "    dependencies=[summary_task] # Must run after the summary task\n",
        ")\n",
        "\n",
        "# Create crew to manage agents and task workflow\n",
        "crew = Crew(\n",
        "    agents=[summarizer, translator], # Agents to include in your crew\n",
        "    tasks=[summary_task, translation_task], # Tasks in execution order\n",
        "    verbose=True\n",
        ")\n",
        "\n",
        "result = crew.kickoff()\n",
        "print(result)"
      ]
    }
  ],
  "metadata": {
    "colab": {
      "provenance": []
    },
    "kernelspec": {
      "display_name": "Python 3",
      "name": "python3"
    },
    "language_info": {
      "name": "python"
    }
  },
  "nbformat": 4,
  "nbformat_minor": 0
}
